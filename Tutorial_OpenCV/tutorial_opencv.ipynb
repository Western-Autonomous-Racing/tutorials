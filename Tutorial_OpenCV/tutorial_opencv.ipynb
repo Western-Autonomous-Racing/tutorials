{
 "cells": [
  {
   "cell_type": "markdown",
   "metadata": {},
   "source": [
    "# OpenCV Assignment\n",
    "\n",
    "**Acknowledgements:** The following assignment is based on GeeksforGeeks [tutorials](https://www.geeksforgeeks.org/opencv-python-tutorial/). \n",
    "This assignment is a quick introduction to the vast capabilities of the opencv library. It is highly recommended you also peruse through these tutorials in addition to this.\n",
    "\n",
    "## What is OpenCV?\n",
    "\n",
    "OpenCV is a popular open-source library for both computer vision, machine learning, and image processing used by both industry and academia to solve image processing problems. It can be used in C++, Java and Python (the language of our focus). It can do anything from manipulating images for pre-processing to running machine learning models such as SVM's to identify hand-written letters. Furthermore, this library is highly optimized for numerical operations and uses numpy arrays to represent images."
   ]
  },
  {
   "cell_type": "markdown",
   "metadata": {},
   "source": [
    "## Reading, Writing and Displaying Image Media\n",
    "\n",
    "### 🚨🚨**WARNING**🚨🚨 OPENCV BY DEFAULT REPRESENTS IMAGES AS BGR (AS OPPOSED TO RGB) FOR ALL OPERATIONS. \n",
    "If you're scratching your head as to why an image colourspace appears funky, that's most likely why.\n",
    "\n",
    "### Reading an Image"
   ]
  },
  {
   "cell_type": "markdown",
   "metadata": {},
   "source": []
  }
 ],
 "metadata": {
  "kernelspec": {
   "display_name": "Python 3",
   "language": "python",
   "name": "python3"
  },
  "language_info": {
   "name": "python",
   "version": "3.8.18"
  },
  "orig_nbformat": 4
 },
 "nbformat": 4,
 "nbformat_minor": 2
}
