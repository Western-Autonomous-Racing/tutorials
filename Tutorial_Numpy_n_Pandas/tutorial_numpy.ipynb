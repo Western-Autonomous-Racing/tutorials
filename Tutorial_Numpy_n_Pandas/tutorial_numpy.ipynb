{
 "cells": [
  {
   "cell_type": "markdown",
   "metadata": {},
   "source": [
    "# Numpy Assignment\n",
    "\n",
    "**Acknowledgements:** The following assignment is based on this [tutorial](https://realpython.com/numpy-tutorial/)\n"
   ]
  },
  {
   "cell_type": "markdown",
   "metadata": {},
   "source": [
    "## **Introduction**\n",
    "\n",
    "Numpy is a very useful and fundamental package for creating, doing calculations with and manipulating multi-dimensional arrays. It is a general purpose scientific computing package dealing with vectors, matrices, and tensors. It is used in image processing, machine learning and more."
   ]
  },
  {
   "cell_type": "markdown",
   "metadata": {},
   "source": [
    "### **Prerequisites**\n",
    "\n",
    "Please see [installing numpy](https://realpython.com/numpy-tutorial/#installing-numpy) with this link for more details. If using google colab, numpy is already pre-installed. Once you're done, run the following code snippet to import the necessary packages we need for this project"
   ]
  },
  {
   "cell_type": "code",
   "execution_count": null,
   "metadata": {},
   "outputs": [],
   "source": [
    "import numpy as np \n",
    "import matplotlib as plt"
   ]
  },
  {
   "cell_type": "markdown",
   "metadata": {},
   "source": [
    "### Numpy Arrays: The Fundamental Building Blocks\n",
    "\n",
    "Numpy arrays are *typed, fixed-size* n-dimensional arays. To declare "
   ]
  }
 ],
 "metadata": {
  "kernelspec": {
   "display_name": "Python 3",
   "language": "python",
   "name": "python3"
  },
  "language_info": {
   "name": "python",
   "version": "3.8.18"
  },
  "orig_nbformat": 4
 },
 "nbformat": 4,
 "nbformat_minor": 2
}
