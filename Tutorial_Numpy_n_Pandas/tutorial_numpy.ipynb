{
 "cells": [
  {
   "cell_type": "markdown",
   "metadata": {},
   "source": [
    "# Numpy Assignment\n",
    "\n",
    "**Acknowledgements:** The following assignment is based on this [tutorial](https://realpython.com/numpy-tutorial/)\n"
   ]
  },
  {
   "cell_type": "markdown",
   "metadata": {},
   "source": [
    "## **Introduction**\n",
    "\n",
    "Numpy is a very useful and fundamental package for creating, doing calculations with and manipulating multi-dimensional arrays. It is a general purpose scientific computing package dealing with vectors, matrices, and tensors. It is used in image processing, machine learning and more."
   ]
  },
  {
   "cell_type": "markdown",
   "metadata": {},
   "source": [
    "### **Prerequisites**\n",
    "\n",
    "Please see [installing numpy](https://realpython.com/numpy-tutorial/#installing-numpy) with this link for more details. If using google colab, numpy is already pre-installed. Once you're done, run the following code snippet to import the necessary packages we need for this project"
   ]
  },
  {
   "cell_type": "code",
   "execution_count": 1,
   "metadata": {},
   "outputs": [],
   "source": [
    "import numpy as np \n",
    "import matplotlib.pyplot as plt"
   ]
  },
  {
   "cell_type": "markdown",
   "metadata": {},
   "source": [
    "### **Numpy Arrays: The Fundamental Building Blocks**\n",
    "\n",
    "Numpy arrays are *typed, fixed-size* n-dimensional arays. Let's run through a few scenarios to get feel for how to declare, populate, index and manipulate arrays."
   ]
  },
  {
   "cell_type": "markdown",
   "metadata": {},
   "source": [
    "**Scenario One - Grading**\n",
    "\n",
    "The scenario is this: You’re an ECE 3380 professor who has just graded your students on a recent test. As typical, you may have made the test too challenging, and most of the students did poorly expected. Since you're in a good mood today, you decide let some of your students at least pass and curve everbody's grades."
   ]
  },
  {
   "cell_type": "markdown",
   "metadata": {},
   "source": [
    "**Some Definitions**  <br>\n",
    "\n",
    "Scalar: A single quantity describing magnitude i.e. 1.34 <br>\n",
    "\n",
    "Vector: A one dimensional array i.e. [0, 1, 2, 3] <br>\n",
    "\n",
    "Matrix: A two dimensional array i.e. [[0, 1, 2, 3], [4, 5, 6, 7]] <br>\n",
    "\n",
    "Tensor: Any dimensional array/\"matrix\" i.e. can be 0-D, 1-D, 2-D etc."
   ]
  },
  {
   "cell_type": "markdown",
   "metadata": {},
   "source": [
    "Let's first declare and populate a numpy array of everyone's raw grades."
   ]
  },
  {
   "cell_type": "code",
   "execution_count": 2,
   "metadata": {},
   "outputs": [],
   "source": [
    "grades = np.array([12, 34, 56, 45, 27, 43, 47, 61, 50])"
   ]
  },
  {
   "cell_type": "markdown",
   "metadata": {},
   "source": [
    "Let's find the mean of the grades."
   ]
  },
  {
   "cell_type": "code",
   "execution_count": 3,
   "metadata": {},
   "outputs": [],
   "source": [
    "raw_average = grades.mean() # mean of grades"
   ]
  },
  {
   "cell_type": "markdown",
   "metadata": {},
   "source": [
    "Now we want to curve these grades up. Let's start with naive approach by targetting an average mean and offsetting every grade."
   ]
  },
  {
   "cell_type": "code",
   "execution_count": 4,
   "metadata": {},
   "outputs": [
    {
     "name": "stdout",
     "output_type": "stream",
     "text": [
      "[20.33333333 42.33333333 64.33333333 53.33333333 35.33333333 51.33333333\n",
      " 55.33333333 69.33333333 58.33333333]\n"
     ]
    }
   ],
   "source": [
    "target_average = 50\n",
    "grade_delta = target_average - raw_average\n",
    "new_grades = grades + grade_delta # add grade_delta, a scalar to every element in array.\n",
    "np.clip(new_grades, grades, 100) # limiting range between per grades element and 100\n",
    "print(new_grades)"
   ]
  },
  {
   "cell_type": "markdown",
   "metadata": {},
   "source": [
    "### Manipulating and Indexing Numpy Arrays\n",
    "Moving on, let's talk about manipulating the shape of the array. Let's say you have the following array"
   ]
  },
  {
   "cell_type": "code",
   "execution_count": 5,
   "metadata": {},
   "outputs": [
    {
     "data": {
      "image/png": "[encoded data removed]",
      "text/plain": [
       "<Figure size 640x480 with 1 Axes>"
      ]
     },
     "metadata": {},
     "output_type": "display_data"
    }
   ],
   "source": [
    "gradient_array = np.array([np.arange(0,256, dtype=np.uint8)]*256) # arange creates a 1-d array from values 0 to 255 typed unsigned 8 bit integer at each row and [np.arange(0,256, dtype=np.uint8)]*256 \n",
    "                                                                    # then populates a numpy array with 256 rows in the matrix\n",
    "\n",
    "gradient_img = plt.imshow(gradient_array, cmap='gray')"
   ]
  },
  {
   "cell_type": "markdown",
   "metadata": {},
   "source": [
    "We just made a grayscale gradient 8-bit image! But grayscale is boring. Let's make a RGB image.\n",
    "\n",
    "First create an all black 256x256 image\n",
    "\n",
    "HINT: Remember that an RGB image has 3 channels. Suggested that you use [numpy.zeros](https://numpy.org/doc/stable/reference/generated/numpy.zeros.html)"
   ]
  },
  {
   "cell_type": "code",
   "execution_count": 41,
   "metadata": {},
   "outputs": [],
   "source": [
    "rgb_image = np.zeros([256,256,3], dtype=np.uint8)"
   ]
  },
  {
   "cell_type": "markdown",
   "metadata": {},
   "source": [
    "To get the colour red for example, the red, blue, green channel values should be [255, 0, 0].\n",
    "\n",
    "So, we should aim for something like the following -\n",
    "\n",
    "R - [255, 254, ... , 2, 1, 0, ... , 0, 0] <br>\n",
    "G - [0, 1, 2 ... , 254, 255, 255, 254, ... 2, 1 , 0] <br>\n",
    "B - [0, 0, ... , 0, 1, 2, ... , 254, 255] <br>\n",
    "\n",
    "There are couple ways to do this. One is to do as we did above and create an entire new rgb gradient image populated like this. Another way is to create the appropriate slices to fill in parts of the images.\n",
    "\n",
    "Let's create some colour gradient slices with the idea above in mind,"
   ]
  },
  {
   "cell_type": "code",
   "execution_count": 42,
   "metadata": {},
   "outputs": [
    {
     "name": "stdout",
     "output_type": "stream",
     "text": [
      "(256, 170)\n",
      "(256, 256)\n",
      "(256, 170)\n"
     ]
    }
   ],
   "source": [
    "# create red, green, blue channel values\n",
    "\n",
    "# put your code here\n",
    "\n",
    "# add slices to rgb_image\n",
    "\n",
    "# put your code here\n"
   ]
  },
  {
   "cell_type": "code",
   "execution_count": 44,
   "metadata": {},
   "outputs": [
    {
     "data": {
      "text/plain": [
       "<matplotlib.image.AxesImage at 0x290861113d0>"
      ]
     },
     "execution_count": 44,
     "metadata": {},
     "output_type": "execute_result"
    },
    {
     "data": {
      "image/png": "[encoded data removed]",
      "text/plain": [
       "<Figure size 640x480 with 1 Axes>"
      ]
     },
     "metadata": {},
     "output_type": "display_data"
    }
   ],
   "source": [
    "# show resulting image\n",
    "plt.imshow(rgb_image)"
   ]
  }
 ],
 "metadata": {
  "kernelspec": {
   "display_name": "Python 3",
   "language": "python",
   "name": "python3"
  },
  "language_info": {
   "codemirror_mode": {
    "name": "ipython",
    "version": 3
   },
   "file_extension": ".py",
   "mimetype": "text/x-python",
   "name": "python",
   "nbconvert_exporter": "python",
   "pygments_lexer": "ipython3",
   "version": "3.8.18"
  },
  "orig_nbformat": 4
 },
 "nbformat": 4,
 "nbformat_minor": 2
}
